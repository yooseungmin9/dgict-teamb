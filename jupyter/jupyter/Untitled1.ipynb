{
 "cells": [
  {
   "cell_type": "code",
   "execution_count": 1,
   "id": "2b21c613-f490-474a-a813-a8a86eddcdd4",
   "metadata": {},
   "outputs": [
    {
     "name": "stdout",
     "output_type": "stream",
     "text": [
      "Collecting snscrape\n",
      "  Downloading snscrape-0.7.0.20230622-py3-none-any.whl.metadata (4.9 kB)\n",
      "Requirement already satisfied: requests[socks] in c:\\users\\ysu13\\anaconda3\\envs\\myenv\\lib\\site-packages (from snscrape) (2.32.5)\n",
      "Requirement already satisfied: lxml in c:\\users\\ysu13\\anaconda3\\envs\\myenv\\lib\\site-packages (from snscrape) (6.0.2)\n",
      "Requirement already satisfied: beautifulsoup4 in c:\\users\\ysu13\\anaconda3\\envs\\myenv\\lib\\site-packages (from snscrape) (4.14.2)\n",
      "Requirement already satisfied: filelock in c:\\users\\ysu13\\anaconda3\\envs\\myenv\\lib\\site-packages (from snscrape) (3.19.1)\n",
      "Requirement already satisfied: soupsieve>1.2 in c:\\users\\ysu13\\anaconda3\\envs\\myenv\\lib\\site-packages (from beautifulsoup4->snscrape) (2.8)\n",
      "Requirement already satisfied: typing-extensions>=4.0.0 in c:\\users\\ysu13\\anaconda3\\envs\\myenv\\lib\\site-packages (from beautifulsoup4->snscrape) (4.15.0)\n",
      "Requirement already satisfied: charset_normalizer<4,>=2 in c:\\users\\ysu13\\anaconda3\\envs\\myenv\\lib\\site-packages (from requests[socks]->snscrape) (3.4.3)\n",
      "Requirement already satisfied: idna<4,>=2.5 in c:\\users\\ysu13\\anaconda3\\envs\\myenv\\lib\\site-packages (from requests[socks]->snscrape) (3.10)\n",
      "Requirement already satisfied: urllib3<3,>=1.21.1 in c:\\users\\ysu13\\anaconda3\\envs\\myenv\\lib\\site-packages (from requests[socks]->snscrape) (2.5.0)\n",
      "Requirement already satisfied: certifi>=2017.4.17 in c:\\users\\ysu13\\anaconda3\\envs\\myenv\\lib\\site-packages (from requests[socks]->snscrape) (2025.8.3)\n",
      "Requirement already satisfied: PySocks!=1.5.7,>=1.5.6 in c:\\users\\ysu13\\anaconda3\\envs\\myenv\\lib\\site-packages (from requests[socks]->snscrape) (1.7.1)\n",
      "Downloading snscrape-0.7.0.20230622-py3-none-any.whl (74 kB)\n",
      "Installing collected packages: snscrape\n",
      "Successfully installed snscrape-0.7.0.20230622\n",
      "Note: you may need to restart the kernel to use updated packages.\n"
     ]
    }
   ],
   "source": [
    "pip install snscrape"
   ]
  },
  {
   "cell_type": "code",
   "execution_count": null,
   "id": "49eefbd6-62a6-4e3b-94b3-c1bfb317b3c3",
   "metadata": {},
   "outputs": [],
   "source": [
    "!snscrape --jsonl --max-results 300 twitter-search \"경제 뉴스 어렵다\" > tweets.json"
   ]
  },
  {
   "cell_type": "code",
   "execution_count": null,
   "id": "b2facc94-6020-4253-9233-8cb68f89c686",
   "metadata": {},
   "outputs": [],
   "source": []
  },
  {
   "cell_type": "code",
   "execution_count": null,
   "id": "0e01c054-07a0-4dc9-9eb3-c1829238796f",
   "metadata": {},
   "outputs": [],
   "source": []
  },
  {
   "cell_type": "code",
   "execution_count": null,
   "id": "6ea29da5-6547-46cb-927c-d17bb5872988",
   "metadata": {},
   "outputs": [],
   "source": []
  },
  {
   "cell_type": "code",
   "execution_count": null,
   "id": "beac972a-04b4-4e14-8ee7-0fe2898849b8",
   "metadata": {},
   "outputs": [],
   "source": []
  },
  {
   "cell_type": "code",
   "execution_count": null,
   "id": "ea5ae2d4-b5b2-4927-a479-6691690feead",
   "metadata": {},
   "outputs": [],
   "source": []
  },
  {
   "cell_type": "code",
   "execution_count": null,
   "id": "fa480cf8-9b06-4502-a031-291b6581c1b8",
   "metadata": {},
   "outputs": [],
   "source": []
  },
  {
   "cell_type": "code",
   "execution_count": null,
   "id": "e2112cd3-a0b9-4510-aeb9-0ba5e900e095",
   "metadata": {},
   "outputs": [],
   "source": []
  },
  {
   "cell_type": "code",
   "execution_count": null,
   "id": "3c265a60-7071-4e8c-a402-c3d7aec14ada",
   "metadata": {},
   "outputs": [],
   "source": []
  }
 ],
 "metadata": {
  "kernelspec": {
   "display_name": "Python [conda env:myenv]",
   "language": "python",
   "name": "conda-env-myenv-py"
  },
  "language_info": {
   "codemirror_mode": {
    "name": "ipython",
    "version": 3
   },
   "file_extension": ".py",
   "mimetype": "text/x-python",
   "name": "python",
   "nbconvert_exporter": "python",
   "pygments_lexer": "ipython3",
   "version": "3.9.23"
  }
 },
 "nbformat": 4,
 "nbformat_minor": 5
}
